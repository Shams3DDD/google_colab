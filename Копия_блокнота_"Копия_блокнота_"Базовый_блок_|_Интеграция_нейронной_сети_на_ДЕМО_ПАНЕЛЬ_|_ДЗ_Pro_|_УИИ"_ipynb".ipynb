{
  "cells": [
    {
      "cell_type": "markdown",
      "metadata": {
        "id": "view-in-github",
        "colab_type": "text"
      },
      "source": [
        "<a href=\"https://colab.research.google.com/github/Shams3DDD/google_colab/blob/main/%D0%9A%D0%BE%D0%BF%D0%B8%D1%8F_%D0%B1%D0%BB%D0%BE%D0%BA%D0%BD%D0%BE%D1%82%D0%B0_%22%D0%9A%D0%BE%D0%BF%D0%B8%D1%8F_%D0%B1%D0%BB%D0%BE%D0%BA%D0%BD%D0%BE%D1%82%D0%B0_%22%D0%91%D0%B0%D0%B7%D0%BE%D0%B2%D1%8B%D0%B9_%D0%B1%D0%BB%D0%BE%D0%BA_%7C_%D0%98%D0%BD%D1%82%D0%B5%D0%B3%D1%80%D0%B0%D1%86%D0%B8%D1%8F_%D0%BD%D0%B5%D0%B9%D1%80%D0%BE%D0%BD%D0%BD%D0%BE%D0%B9_%D1%81%D0%B5%D1%82%D0%B8_%D0%BD%D0%B0_%D0%94%D0%95%D0%9C%D0%9E_%D0%9F%D0%90%D0%9D%D0%95%D0%9B%D0%AC_%7C_%D0%94%D0%97_Pro_%7C_%D0%A3%D0%98%D0%98%22_ipynb%22.ipynb\" target=\"_parent\"><img src=\"https://colab.research.google.com/assets/colab-badge.svg\" alt=\"Open In Colab\"/></a>"
      ]
    },
    {
      "cell_type": "markdown",
      "metadata": {
        "id": "c6nTn8IaLGn_"
      },
      "source": [
        "Необходимо создать, обучить нейронную сеть с точностью не менее 85% и упаковать её в архив для загрузки на демо-панель:\n",
        "* создать нейронную сеть для распознавания марки автомобиля из 3х вариантов\n",
        "* сохраните веса\n",
        "* подготовить запуск модели \"из коробки\"\n",
        "* подготовить архив с готовой нейронной сетью для загрузки в демо-панель\n"
      ]
    },
    {
      "cell_type": "markdown",
      "metadata": {
        "id": "ykPHyiP0YCcx"
      },
      "source": [
        "# Загрузка данных"
      ]
    },
    {
      "cell_type": "code",
      "execution_count": null,
      "metadata": {
        "id": "F8rGjdfMOTi6"
      },
      "outputs": [],
      "source": [
        "# Работа с массивами\n",
        "import numpy as np\n",
        "\n",
        "# Генератор аугментированных изображений\n",
        "from tensorflow.keras.preprocessing.image import ImageDataGenerator\n",
        "\n",
        "# Основа для создания последовательной модели\n",
        "from tensorflow.keras.models import Sequential\n",
        "\n",
        "# Основные слои\n",
        "from tensorflow.keras.layers import Dense, Conv2D, MaxPooling2D, Flatten, Dropout, BatchNormalization\n",
        "\n",
        "# Оптимизатор\n",
        "from tensorflow.keras.optimizers import Adam\n",
        "\n",
        "# Матрица ошибок классификатора\n",
        "from sklearn.metrics import confusion_matrix, ConfusionMatrixDisplay\n",
        "\n",
        "from tensorflow.keras.models import load_model\n",
        "\n",
        "from PIL import Image, ImageOps\n",
        "\n",
        "# Подключение модуля для загрузки данных из облака\n",
        "import gdown\n",
        "\n",
        "# Инструменты для работы с файлами\n",
        "import os\n",
        "\n",
        "# Отрисовка графиков\n",
        "import matplotlib.pyplot as plt\n",
        "\n",
        "# Рисование графиков в ячейках Colab\n",
        "%matplotlib inline"
      ]
    },
    {
      "cell_type": "code",
      "execution_count": null,
      "metadata": {
        "id": "okc3PBxe8LUF"
      },
      "outputs": [],
      "source": [
        "# Задание гиперпараметров\n",
        "\n",
        "TRAIN_PATH = \"/content/cars\"  # Папка для обучающего набора данных\n",
        "TEST_PATH = \"/content/cars_test\"  # Папка для тестового набора данных\n",
        "\n",
        "TEST_SPLIT = 0.1  # Доля тестовых данных в общем наборе\n",
        "VAL_SPLIT = 0.2  # Доля проверочной выборки в обучающем наборе\n",
        "\n",
        "IMG_WIDTH = 128  # Ширина изображения для нейросети\n",
        "IMG_HEIGHT = 64  # Высота изображения для нейросети\n",
        "IMG_CHANNELS = 3  # Количество каналов (для RGB равно 3, для Grey равно 1)\n",
        "\n",
        "# Параметры аугментации\n",
        "ROTATION_RANGE = 8  # Пределы поворота\n",
        "WIDTH_SHIFT_RANGE = 0.15  # Пределы сдвига по горизонтали\n",
        "HEIGHT_SHIFT_RANGE = 0.15  # Пределы сдвига по вертикали\n",
        "ZOOM_RANGE = 0.15  # Пределы увеличения/уменьшения\n",
        "BRIGHTNESS_RANGE = (0.7, 1.3)  # Пределы изменения яркости\n",
        "HORIZONTAL_FLIP = True  # Горизонтальное отражение разрешено\n",
        "\n",
        "EPOCHS = 60  # Число эпох обучения\n",
        "BATCH_SIZE = 24  # Размер батча для обучения модели\n",
        "OPTIMIZER = Adam(0.0001)  # Оптимизатор"
      ]
    },
    {
      "cell_type": "code",
      "execution_count": null,
      "metadata": {
        "id": "XxVzvP_28LUG",
        "outputId": "b250c9c6-2ce9-428f-9abf-c63731f8b618",
        "colab": {
          "base_uri": "https://localhost:8080/"
        }
      },
      "outputs": [
        {
          "output_type": "execute_result",
          "data": {
            "text/plain": [
              "'middle_fmr.zip'"
            ],
            "application/vnd.google.colaboratory.intrinsic+json": {
              "type": "string"
            }
          },
          "metadata": {},
          "execution_count": 3
        }
      ],
      "source": [
        "# Загрузка zip-архива с датасетом из облака на диск виртуальной машины colab\n",
        "gdown.download(\n",
        "    \"https://storage.yandexcloud.net/aiueducation/Content/base/l5/middle_fmr.zip\",\n",
        "    None,\n",
        "    quiet=True,\n",
        ")"
      ]
    },
    {
      "cell_type": "code",
      "execution_count": null,
      "metadata": {
        "id": "xHjCfBnf8LUH"
      },
      "outputs": [],
      "source": [
        "#  Для colab\n",
        "# Очистка данных от прошлого запуска (если есть)\n",
        "!rm -rf {TRAIN_PATH} {TEST_PATH}\n",
        "\n",
        "# Разархивация датасета в директорию данных\n",
        "!unzip -qo \"middle_fmr.zip\" -d {TRAIN_PATH}"
      ]
    },
    {
      "cell_type": "code",
      "execution_count": null,
      "metadata": {
        "id": "TdYGYFXk8LUI"
      },
      "outputs": [],
      "source": [
        "# Для vs code\n",
        "#TRAIN_PATH = \"/Users/admin/Project/AIuniversity/google_colab/content/cars\"  # Папка для обучающего набора данных\n",
        "#TEST_PATH = \"/Users/admin/Project/AIuniversity/google_colab/content/cars_test\"  # Папка для тестового набора данных"
      ]
    },
    {
      "cell_type": "code",
      "execution_count": null,
      "metadata": {
        "id": "ZCmuNWcM8LUI",
        "outputId": "52e5c432-da9d-4be6-9a29-4fd5ae7be307",
        "colab": {
          "base_uri": "https://localhost:8080/"
        }
      },
      "outputs": [
        {
          "output_type": "execute_result",
          "data": {
            "text/plain": [
              "'\\nimport os\\nfrom pathlib import Path\\n\\n# Указать путь к архиву и целевой директории\\nzip_file_path = \"middle_fmr.zip\"\\ntarget_directory = \"/Users/admin/Project/AIuniversity/google_colab/content/cars\"\\n\\n# Создать директорию, если она не существует\\nPath(target_directory).mkdir(parents=True, exist_ok=True)\\n\\n# Разархивировать с созданием директории\\nos.system(f\"unzip -qo {zip_file_path} -d {target_directory}\")\\n'"
            ],
            "application/vnd.google.colaboratory.intrinsic+json": {
              "type": "string"
            }
          },
          "metadata": {},
          "execution_count": 6
        }
      ],
      "source": [
        "# Для vscode\n",
        "'''\n",
        "import os\n",
        "from pathlib import Path\n",
        "\n",
        "# Указать путь к архиву и целевой директории\n",
        "zip_file_path = \"middle_fmr.zip\"\n",
        "target_directory = \"/Users/admin/Project/AIuniversity/google_colab/content/cars\"\n",
        "\n",
        "# Создать директорию, если она не существует\n",
        "Path(target_directory).mkdir(parents=True, exist_ok=True)\n",
        "\n",
        "# Разархивировать с созданием директории\n",
        "os.system(f\"unzip -qo {zip_file_path} -d {target_directory}\")\n",
        "'''"
      ]
    },
    {
      "cell_type": "code",
      "execution_count": null,
      "metadata": {
        "id": "vVsFre_28LUJ",
        "outputId": "2c136bea-7df3-48c6-9f25-3f02292e792f",
        "colab": {
          "base_uri": "https://localhost:8080/"
        }
      },
      "outputs": [
        {
          "output_type": "stream",
          "name": "stdout",
          "text": [
            "Количество классов: 3, метки классов: ['Ferrari', 'Mercedes', 'Renault']\n"
          ]
        }
      ],
      "source": [
        "# Определение списка имен классов\n",
        "CLASS_LIST = sorted(os.listdir(TRAIN_PATH))\n",
        "\n",
        "# Определение количества классов\n",
        "CLASS_COUNT = len(CLASS_LIST)\n",
        "\n",
        "# Проверка результата\n",
        "print(f\"Количество классов: {CLASS_COUNT}, метки классов: {CLASS_LIST}\")"
      ]
    },
    {
      "cell_type": "code",
      "execution_count": null,
      "metadata": {
        "id": "lmcUg22Z8LUJ",
        "outputId": "eded1aa0-3397-49e4-a944-d31ce469b130",
        "colab": {
          "base_uri": "https://localhost:8080/"
        }
      },
      "outputs": [
        {
          "output_type": "stream",
          "name": "stdout",
          "text": [
            "Размер класса Ferrari: 1088 машин, для теста выделено файлов: 108\n",
            "Размер класса Mercedes: 1161 машин, для теста выделено файлов: 116\n",
            "Размер класса Renault: 1178 машин, для теста выделено файлов: 117\n",
            "Общий размер базы: 3427, выделено для обучения: 3086, для теста: 341\n"
          ]
        }
      ],
      "source": [
        "# Перенос файлов для теста в отдельное дерево папок, расчет размеров наборов данных\n",
        "\n",
        "try:\n",
        "    os.mkdir(TEST_PATH)  # Создание папки для тестовых данных\n",
        "except:\n",
        "    pass\n",
        "\n",
        "train_count = 0\n",
        "test_count = 0\n",
        "\n",
        "for class_name in CLASS_LIST:  # Для всех классов по порядку номеров (их меток)\n",
        "    class_path = f\"{TRAIN_PATH}/{class_name}\"  # Формирование полного пути к папке с изображениями класса\n",
        "    test_path = f\"{TEST_PATH}/{class_name}\"  # Полный путь для тестовых данных класса\n",
        "    class_files = os.listdir(\n",
        "        class_path\n",
        "    )  # Получение списка имен файлов с изображениями текущего класса\n",
        "    class_file_count = len(class_files)  # Получение общего числа файлов класса\n",
        "\n",
        "    try:\n",
        "        os.mkdir(test_path)  # Создание подпапки класса для тестовых данных\n",
        "    except:\n",
        "        pass\n",
        "\n",
        "    test_file_count = int(\n",
        "        class_file_count * TEST_SPLIT\n",
        "    )  # Определение числа тестовых файлов для класса\n",
        "    test_files = class_files[\n",
        "        -test_file_count:\n",
        "    ]  # Выделение файлов для теста от конца списка\n",
        "    for f in test_files:  # Перемещение тестовых файлов в папку для теста\n",
        "        os.rename(f\"{class_path}/{f}\", f\"{test_path}/{f}\")\n",
        "    train_count += (\n",
        "        class_file_count  # Увеличение общего счетчика файлов обучающего набора\n",
        "    )\n",
        "    test_count += test_file_count  # Увеличение общего счетчика файлов тестового набора\n",
        "\n",
        "    print(\n",
        "        f\"Размер класса {class_name}: {class_file_count} машин, для теста выделено файлов: {test_file_count}\"\n",
        "    )\n",
        "\n",
        "print(\n",
        "    f\"Общий размер базы: {train_count}, выделено для обучения: {train_count - test_count}, для теста: {test_count}\"\n",
        ")"
      ]
    },
    {
      "cell_type": "markdown",
      "metadata": {
        "id": "dspZyqxn8LUK"
      },
      "source": [
        "# Подготовка и обучение модели"
      ]
    },
    {
      "cell_type": "code",
      "execution_count": null,
      "metadata": {
        "id": "D-FkMylr8LUK"
      },
      "outputs": [],
      "source": [
        "# Генераторы изображений\n",
        "\n",
        "# Изображения для обучающего набора нормализуются и аугментируются согласно заданным гиперпараметрам\n",
        "# Далее набор будет разделен на обучающую и проверочную выборку в соотношении VAL_SPLIT\n",
        "train_datagen = ImageDataGenerator(\n",
        "    rescale=1.0 / 255.0,\n",
        "    rotation_range=ROTATION_RANGE,\n",
        "    width_shift_range=WIDTH_SHIFT_RANGE,\n",
        "    height_shift_range=HEIGHT_SHIFT_RANGE,\n",
        "    zoom_range=ZOOM_RANGE,\n",
        "    brightness_range=BRIGHTNESS_RANGE,\n",
        "    horizontal_flip=HORIZONTAL_FLIP,\n",
        "    validation_split=VAL_SPLIT,\n",
        ")\n",
        "\n",
        "# Изображения для тестового набора только нормализуются\n",
        "test_datagen = ImageDataGenerator(rescale=1.0 / 255.0)"
      ]
    },
    {
      "cell_type": "code",
      "execution_count": null,
      "metadata": {
        "id": "zZ8Ka8UR8LUK",
        "outputId": "b6900fd5-6d2e-489a-c4ac-11da1211a485",
        "colab": {
          "base_uri": "https://localhost:8080/"
        }
      },
      "outputs": [
        {
          "output_type": "stream",
          "name": "stdout",
          "text": [
            "Found 2469 images belonging to 3 classes.\n",
            "Found 617 images belonging to 3 classes.\n",
            "Found 341 images belonging to 3 classes.\n"
          ]
        }
      ],
      "source": [
        "# Обучающая выборка генерируется из папки обучающего набора\n",
        "train_generator = train_datagen.flow_from_directory(\n",
        "    # Путь к обучающим изображениям\n",
        "    TRAIN_PATH,\n",
        "    # Параметры требуемого размера изображения\n",
        "    target_size=(IMG_HEIGHT, IMG_WIDTH),\n",
        "    # Размер батча\n",
        "    batch_size=BATCH_SIZE,\n",
        "    class_mode=\"categorical\",\n",
        "    shuffle=True,\n",
        "    # Указание сгенерировать обучающую выборку\n",
        "    subset=\"training\",\n",
        ")\n",
        "\n",
        "# Проверочная выборка также генерируется из папки обучающего набора\n",
        "validation_generator = train_datagen.flow_from_directory(\n",
        "    TRAIN_PATH,\n",
        "    target_size=(IMG_HEIGHT, IMG_WIDTH),\n",
        "    batch_size=BATCH_SIZE,\n",
        "    class_mode=\"categorical\",\n",
        "    shuffle=True,\n",
        "    # Указание сгенерировать проверочную выборку\n",
        "    subset=\"validation\",\n",
        ")\n",
        "\n",
        "# Тестовая выборка генерируется из папки тестового набора\n",
        "test_generator = test_datagen.flow_from_directory(\n",
        "    TEST_PATH,\n",
        "    target_size=(IMG_HEIGHT, IMG_WIDTH),\n",
        "    batch_size=test_count,\n",
        "    class_mode=\"categorical\",\n",
        "    shuffle=True,\n",
        ")"
      ]
    },
    {
      "cell_type": "code",
      "execution_count": null,
      "metadata": {
        "id": "YyWolxkh8LUL",
        "outputId": "b08a13c9-4056-4762-96c3-8e3e6d514c65",
        "colab": {
          "base_uri": "https://localhost:8080/"
        }
      },
      "outputs": [
        {
          "output_type": "stream",
          "name": "stdout",
          "text": [
            "Формы данных тренировочной выборки: (24, 64, 128, 3), (24, 3), батчей: 103\n",
            "Формы данных   проверочной выборки: (24, 64, 128, 3), (24, 3), батчей: 26\n",
            "Формы данных      тестовой выборки: (341, 64, 128, 3), (341, 3), батчей: 1\n",
            "\n",
            "Метки классов тренировочной выборки: {'Ferrari': 0, 'Mercedes': 1, 'Renault': 2}\n",
            "Метки классов   проверочной выборки: {'Ferrari': 0, 'Mercedes': 1, 'Renault': 2}\n",
            "Метки классов      тестовой выборки: {'Ferrari': 0, 'Mercedes': 1, 'Renault': 2}\n"
          ]
        }
      ],
      "source": [
        "# Проверка формы данных\n",
        "print(\n",
        "    f\"Формы данных тренировочной выборки: {train_generator[0][0].shape}, {train_generator[0][1].shape}, батчей: {len(train_generator)}\"\n",
        ")\n",
        "print(\n",
        "    f\"Формы данных   проверочной выборки: {validation_generator[0][0].shape}, {validation_generator[0][1].shape}, батчей: {len(validation_generator)}\"\n",
        ")\n",
        "print(\n",
        "    f\"Формы данных      тестовой выборки: {test_generator[0][0].shape}, {test_generator[0][1].shape}, батчей: {len(test_generator)}\"\n",
        ")\n",
        "\n",
        "print()\n",
        "\n",
        "# Проверка назначения меток классов\n",
        "print(f\"Метки классов тренировочной выборки: {train_generator.class_indices}\")\n",
        "print(f\"Метки классов   проверочной выборки: {validation_generator.class_indices}\")\n",
        "print(f\"Метки классов      тестовой выборки: {test_generator.class_indices}\")"
      ]
    },
    {
      "cell_type": "code",
      "execution_count": null,
      "metadata": {
        "id": "4C4yG27B8LUL"
      },
      "outputs": [],
      "source": [
        "# Функция компиляции и обучения модели нейронной сети\n",
        "# По окончанию выводит графики обучения\n",
        "\n",
        "\n",
        "def compile_train_model(\n",
        "    model,  # модель нейронной сети\n",
        "    train_data,  # обучающие данные\n",
        "    val_data,  # проверочные данные\n",
        "    optimizer=OPTIMIZER,  # оптимизатор\n",
        "    epochs=EPOCHS,  # количество эпох обучения\n",
        "    batch_size=BATCH_SIZE,  # размер батча\n",
        "    figsize=(20, 5),\n",
        "):  # размер полотна для графиков\n",
        "    # Компиляция модели\n",
        "    model.compile(\n",
        "        optimizer=optimizer, loss=\"categorical_crossentropy\", metrics=[\"accuracy\"]\n",
        "    )\n",
        "\n",
        "    # Вывод сводки\n",
        "    model.summary()\n",
        "\n",
        "    # Обучение модели с заданными параметрами\n",
        "    history = model.fit(\n",
        "        train_data,\n",
        "        epochs=epochs,\n",
        "        batch_size=batch_size,\n",
        "        validation_data=val_data,\n",
        "    )\n",
        "\n",
        "    # Вывод графиков точности и ошибки\n",
        "    fig, (ax1, ax2) = plt.subplots(1, 2, figsize=figsize)\n",
        "    fig.suptitle(\"График процесса обучения модели\")\n",
        "    ax1.plot(\n",
        "        history.history[\"accuracy\"], label=\"Доля верных ответов на обучающем наборе\"\n",
        "    )\n",
        "    ax1.plot(\n",
        "        history.history[\"val_accuracy\"],\n",
        "        label=\"Доля верных ответов на проверочном наборе\",\n",
        "    )\n",
        "    ax1.xaxis.get_major_locator().set_params(integer=True)\n",
        "    ax1.set_xlabel(\"Эпоха обучения\")\n",
        "    ax1.set_ylabel(\"Доля верных ответов\")\n",
        "    ax1.legend()\n",
        "\n",
        "    ax2.plot(history.history[\"loss\"], label=\"Ошибка на обучающем наборе\")\n",
        "    ax2.plot(history.history[\"val_loss\"], label=\"Ошибка на проверочном наборе\")\n",
        "    ax2.xaxis.get_major_locator().set_params(integer=True)\n",
        "    ax2.set_xlabel(\"Эпоха обучения\")\n",
        "    ax2.set_ylabel(\"Ошибка\")\n",
        "    ax2.legend()\n",
        "    plt.show()"
      ]
    },
    {
      "cell_type": "code",
      "execution_count": null,
      "metadata": {
        "id": "-4xL3OSN8LUL"
      },
      "outputs": [],
      "source": [
        "# Функция вывода результатов оценки модели на заданных данных\n",
        "\n",
        "\n",
        "def eval_model(\n",
        "    model,\n",
        "    x,  # данные для предсказания модели (вход)\n",
        "    y_true,  # верные метки классов в формате OHE (выход)\n",
        "    class_labels=[],  # список меток классов\n",
        "    cm_round=3,  # число знаков после запятой для матрицы ошибок\n",
        "    title=\"\",  # название модели\n",
        "    figsize=(10, 10),  # размер полотна для матрицы ошибок\n",
        "):\n",
        "    # Вычисление предсказания сети\n",
        "    y_pred = model.predict(x)\n",
        "    # Построение матрицы ошибок\n",
        "    cm = confusion_matrix(\n",
        "        np.argmax(y_true, axis=1), np.argmax(y_pred, axis=1), normalize=\"true\"\n",
        "    )\n",
        "    # Округление значений матрицы ошибок\n",
        "    cm = np.around(cm, cm_round)\n",
        "\n",
        "    # Отрисовка матрицы ошибок\n",
        "    fig, ax = plt.subplots(figsize=figsize)\n",
        "    ax.set_title(f\"Нейросеть {title}: матрица ошибок нормализованная\", fontsize=18)\n",
        "    disp = ConfusionMatrixDisplay(confusion_matrix=cm, display_labels=class_labels)\n",
        "    disp.plot(ax=ax)\n",
        "    ax.images[-1].colorbar.remove()  # Стирание ненужной цветовой шкалы\n",
        "    fig.autofmt_xdate(rotation=45)  # Наклон меток горизонтальной оси\n",
        "    plt.xlabel(\"Предсказанные классы\", fontsize=16)\n",
        "    plt.ylabel(\"Верные классы\", fontsize=16)\n",
        "    plt.show()\n",
        "\n",
        "    print(\"-\" * 100)\n",
        "    print(f\"Нейросеть: {title}\")\n",
        "\n",
        "    # Для каждого класса:\n",
        "    for cls in range(len(class_labels)):\n",
        "        # Определяется индекс класса с максимальным значением предсказания (уверенности)\n",
        "        cls_pred = np.argmax(cm[cls])\n",
        "        # Формируется сообщение о верности или неверности предсказания\n",
        "        msg = \"ВЕРНО :-)\" if cls_pred == cls else \"НЕВЕРНО :-(\"\n",
        "        # Выводится текстовая информация о предсказанном классе и значении уверенности\n",
        "        print(\n",
        "            \"Класс: {:<20} {:3.0f}% сеть отнесла к классу {:<20} - {}\".format(\n",
        "                class_labels[cls],\n",
        "                100.0 * cm[cls, cls_pred],\n",
        "                class_labels[cls_pred],\n",
        "                msg,\n",
        "            )\n",
        "        )\n",
        "\n",
        "    # Средняя точность распознавания определяется как среднее диагональных элементов матрицы ошибок\n",
        "    print(\n",
        "        \"\\nСредняя точность распознавания: {:3.0f}%\".format(\n",
        "            100.0 * cm.diagonal().mean()\n",
        "        )\n",
        "    )"
      ]
    },
    {
      "cell_type": "code",
      "execution_count": null,
      "metadata": {
        "id": "ufQTGyvK8LUL"
      },
      "outputs": [],
      "source": [
        "# Совместная функция обучения и оценки модели нейронной сети\n",
        "\n",
        "\n",
        "def compile_train_eval_model(\n",
        "    model,  # модель нейронной сети\n",
        "    train_data,  # обучающие данные\n",
        "    val_data,  # проверочные данные\n",
        "    test_data,  # тестовые данные\n",
        "    class_labels=CLASS_LIST,  # список меток классов\n",
        "    title=\"\",  # название модели\n",
        "    optimizer=OPTIMIZER,  # оптимизатор\n",
        "    epochs=EPOCHS,  # количество эпох обучения\n",
        "    batch_size=BATCH_SIZE,  # размер батча\n",
        "    graph_size=(20, 5),  # размер полотна для графиков обучения\n",
        "    cm_size=(10, 10),  # размер полотна для матрицы ошибок\n",
        "):\n",
        "    # Компиляция и обучение модели на заданных параметрах\n",
        "    # В качестве проверочных используются тестовые данные\n",
        "    compile_train_model(\n",
        "        model,\n",
        "        train_data,\n",
        "        val_data,\n",
        "        optimizer=optimizer,\n",
        "        epochs=epochs,\n",
        "        batch_size=batch_size,\n",
        "        figsize=graph_size,\n",
        "    )\n",
        "\n",
        "    # Вывод результатов оценки работы модели на тестовых данных\n",
        "    eval_model(\n",
        "        model,\n",
        "        test_data[0][0],\n",
        "        test_data[0][1],\n",
        "        class_labels=class_labels,\n",
        "        title=title,\n",
        "        figsize=cm_size,\n",
        "    )"
      ]
    },
    {
      "cell_type": "code",
      "execution_count": null,
      "metadata": {
        "id": "4j4_VX3-8LUL",
        "outputId": "593cb0c0-5c2e-44af-91d4-44ebd002cfdb",
        "colab": {
          "base_uri": "https://localhost:8080/",
          "height": 1000
        }
      },
      "outputs": [
        {
          "output_type": "stream",
          "name": "stdout",
          "text": [
            "Model: \"sequential\"\n",
            "_________________________________________________________________\n",
            " Layer (type)                Output Shape              Param #   \n",
            "=================================================================\n",
            " conv2d (Conv2D)             (None, 64, 128, 256)      7168      \n",
            "                                                                 \n",
            " batch_normalization (Batch  (None, 64, 128, 256)      1024      \n",
            " Normalization)                                                  \n",
            "                                                                 \n",
            " conv2d_1 (Conv2D)           (None, 64, 128, 256)      590080    \n",
            "                                                                 \n",
            " max_pooling2d (MaxPooling2  (None, 21, 42, 256)       0         \n",
            " D)                                                              \n",
            "                                                                 \n",
            " conv2d_2 (Conv2D)           (None, 21, 42, 256)       590080    \n",
            "                                                                 \n",
            " batch_normalization_1 (Bat  (None, 21, 42, 256)       1024      \n",
            " chNormalization)                                                \n",
            "                                                                 \n",
            " dropout (Dropout)           (None, 21, 42, 256)       0         \n",
            "                                                                 \n",
            " conv2d_3 (Conv2D)           (None, 21, 42, 256)       590080    \n",
            "                                                                 \n",
            " max_pooling2d_1 (MaxPoolin  (None, 7, 14, 256)        0         \n",
            " g2D)                                                            \n",
            "                                                                 \n",
            " dropout_1 (Dropout)         (None, 7, 14, 256)        0         \n",
            "                                                                 \n",
            " conv2d_4 (Conv2D)           (None, 7, 14, 512)        1180160   \n",
            "                                                                 \n",
            " batch_normalization_2 (Bat  (None, 7, 14, 512)        2048      \n",
            " chNormalization)                                                \n",
            "                                                                 \n",
            " conv2d_5 (Conv2D)           (None, 7, 14, 1024)       4719616   \n",
            "                                                                 \n",
            " max_pooling2d_2 (MaxPoolin  (None, 2, 4, 1024)        0         \n",
            " g2D)                                                            \n",
            "                                                                 \n",
            " dropout_2 (Dropout)         (None, 2, 4, 1024)        0         \n",
            "                                                                 \n",
            " flatten (Flatten)           (None, 8192)              0         \n",
            "                                                                 \n",
            " dense (Dense)               (None, 2048)              16779264  \n",
            "                                                                 \n",
            " dense_1 (Dense)             (None, 4096)              8392704   \n",
            "                                                                 \n",
            " dense_2 (Dense)             (None, 3)                 12291     \n",
            "                                                                 \n",
            "=================================================================\n",
            "Total params: 32865539 (125.37 MB)\n",
            "Trainable params: 32863491 (125.36 MB)\n",
            "Non-trainable params: 2048 (8.00 KB)\n",
            "_________________________________________________________________\n",
            "Epoch 1/60\n",
            "103/103 [==============================] - 45s 297ms/step - loss: 1.1882 - accuracy: 0.5022 - val_loss: 1.1328 - val_accuracy: 0.3387\n",
            "Epoch 2/60\n",
            "103/103 [==============================] - 24s 233ms/step - loss: 0.9305 - accuracy: 0.5391 - val_loss: 1.1786 - val_accuracy: 0.3387\n",
            "Epoch 3/60\n",
            "103/103 [==============================] - 24s 232ms/step - loss: 0.8862 - accuracy: 0.5727 - val_loss: 1.2527 - val_accuracy: 0.3387\n",
            "Epoch 4/60\n",
            "103/103 [==============================] - 22s 209ms/step - loss: 0.8465 - accuracy: 0.6039 - val_loss: 1.2065 - val_accuracy: 0.3485\n",
            "Epoch 5/60\n",
            "103/103 [==============================] - 23s 220ms/step - loss: 0.8377 - accuracy: 0.6116 - val_loss: 0.9166 - val_accuracy: 0.5802\n",
            "Epoch 6/60\n",
            "103/103 [==============================] - 22s 208ms/step - loss: 0.8210 - accuracy: 0.6379 - val_loss: 0.9506 - val_accuracy: 0.5429\n",
            "Epoch 7/60\n",
            "103/103 [==============================] - 22s 212ms/step - loss: 0.7715 - accuracy: 0.6448 - val_loss: 0.9578 - val_accuracy: 0.5511\n",
            "Epoch 8/60\n",
            "103/103 [==============================] - 22s 211ms/step - loss: 0.7454 - accuracy: 0.6711 - val_loss: 1.0088 - val_accuracy: 0.5575\n",
            "Epoch 9/60\n",
            "103/103 [==============================] - 22s 209ms/step - loss: 0.7488 - accuracy: 0.6683 - val_loss: 0.9517 - val_accuracy: 0.6110\n",
            "Epoch 10/60\n",
            "103/103 [==============================] - 21s 206ms/step - loss: 0.7110 - accuracy: 0.6881 - val_loss: 1.0462 - val_accuracy: 0.5592\n",
            "Epoch 11/60\n",
            "103/103 [==============================] - 22s 208ms/step - loss: 0.7020 - accuracy: 0.6857 - val_loss: 0.8746 - val_accuracy: 0.6370\n",
            "Epoch 12/60\n",
            "103/103 [==============================] - 22s 209ms/step - loss: 0.6721 - accuracy: 0.7104 - val_loss: 0.8365 - val_accuracy: 0.6321\n",
            "Epoch 13/60\n",
            "103/103 [==============================] - 22s 213ms/step - loss: 0.6555 - accuracy: 0.7254 - val_loss: 0.8345 - val_accuracy: 0.6467\n",
            "Epoch 14/60\n",
            "103/103 [==============================] - 21s 208ms/step - loss: 0.6336 - accuracy: 0.7315 - val_loss: 0.9201 - val_accuracy: 0.5867\n",
            "Epoch 15/60\n",
            "103/103 [==============================] - 22s 209ms/step - loss: 0.6261 - accuracy: 0.7448 - val_loss: 0.7643 - val_accuracy: 0.6677\n",
            "Epoch 16/60\n",
            "103/103 [==============================] - 22s 214ms/step - loss: 0.5846 - accuracy: 0.7485 - val_loss: 0.8164 - val_accuracy: 0.6467\n",
            "Epoch 17/60\n",
            "103/103 [==============================] - 22s 209ms/step - loss: 0.5939 - accuracy: 0.7594 - val_loss: 0.7438 - val_accuracy: 0.6937\n",
            "Epoch 18/60\n",
            "103/103 [==============================] - 22s 209ms/step - loss: 0.5697 - accuracy: 0.7647 - val_loss: 0.8301 - val_accuracy: 0.6661\n",
            "Epoch 19/60\n",
            "103/103 [==============================] - 21s 205ms/step - loss: 0.5429 - accuracy: 0.7772 - val_loss: 0.7348 - val_accuracy: 0.6969\n",
            "Epoch 20/60\n",
            "103/103 [==============================] - 22s 211ms/step - loss: 0.5226 - accuracy: 0.7853 - val_loss: 0.7376 - val_accuracy: 0.6904\n",
            "Epoch 21/60\n",
            "103/103 [==============================] - 22s 213ms/step - loss: 0.4945 - accuracy: 0.7987 - val_loss: 0.7712 - val_accuracy: 0.6985\n",
            "Epoch 22/60\n",
            "103/103 [==============================] - 24s 230ms/step - loss: 0.5020 - accuracy: 0.7983 - val_loss: 0.7481 - val_accuracy: 0.6969\n",
            "Epoch 23/60\n",
            "103/103 [==============================] - 22s 212ms/step - loss: 0.4837 - accuracy: 0.7918 - val_loss: 0.7198 - val_accuracy: 0.7196\n",
            "Epoch 24/60\n",
            "103/103 [==============================] - 23s 220ms/step - loss: 0.4782 - accuracy: 0.8064 - val_loss: 0.8251 - val_accuracy: 0.6985\n",
            "Epoch 25/60\n",
            "103/103 [==============================] - 22s 209ms/step - loss: 0.4472 - accuracy: 0.8173 - val_loss: 0.7372 - val_accuracy: 0.7147\n",
            "Epoch 26/60\n",
            "103/103 [==============================] - 21s 206ms/step - loss: 0.4479 - accuracy: 0.8185 - val_loss: 0.8539 - val_accuracy: 0.6807\n",
            "Epoch 27/60\n",
            "103/103 [==============================] - 21s 206ms/step - loss: 0.4426 - accuracy: 0.8246 - val_loss: 0.8688 - val_accuracy: 0.6256\n",
            "Epoch 28/60\n",
            "103/103 [==============================] - 22s 212ms/step - loss: 0.4315 - accuracy: 0.8267 - val_loss: 0.8947 - val_accuracy: 0.7002\n",
            "Epoch 29/60\n",
            "103/103 [==============================] - 21s 208ms/step - loss: 0.4129 - accuracy: 0.8327 - val_loss: 0.8207 - val_accuracy: 0.7066\n",
            "Epoch 30/60\n",
            "103/103 [==============================] - 22s 209ms/step - loss: 0.3741 - accuracy: 0.8505 - val_loss: 0.6873 - val_accuracy: 0.7391\n",
            "Epoch 31/60\n",
            "103/103 [==============================] - 22s 210ms/step - loss: 0.3873 - accuracy: 0.8400 - val_loss: 0.8556 - val_accuracy: 0.6661\n",
            "Epoch 32/60\n",
            "103/103 [==============================] - 22s 209ms/step - loss: 0.3624 - accuracy: 0.8574 - val_loss: 0.8228 - val_accuracy: 0.6985\n",
            "Epoch 33/60\n",
            "103/103 [==============================] - 22s 214ms/step - loss: 0.3844 - accuracy: 0.8457 - val_loss: 0.9181 - val_accuracy: 0.6840\n",
            "Epoch 34/60\n",
            "103/103 [==============================] - 24s 231ms/step - loss: 0.3477 - accuracy: 0.8591 - val_loss: 0.9529 - val_accuracy: 0.7147\n",
            "Epoch 35/60\n",
            "103/103 [==============================] - 24s 229ms/step - loss: 0.3508 - accuracy: 0.8627 - val_loss: 0.6746 - val_accuracy: 0.7358\n",
            "Epoch 36/60\n",
            "103/103 [==============================] - 22s 211ms/step - loss: 0.3341 - accuracy: 0.8688 - val_loss: 0.6738 - val_accuracy: 0.7245\n",
            "Epoch 37/60\n",
            "103/103 [==============================] - 22s 209ms/step - loss: 0.3139 - accuracy: 0.8773 - val_loss: 1.0011 - val_accuracy: 0.7066\n",
            "Epoch 38/60\n",
            "103/103 [==============================] - 22s 208ms/step - loss: 0.3087 - accuracy: 0.8834 - val_loss: 0.8837 - val_accuracy: 0.7180\n",
            "Epoch 39/60\n",
            "103/103 [==============================] - 22s 208ms/step - loss: 0.2925 - accuracy: 0.8894 - val_loss: 0.7306 - val_accuracy: 0.7634\n",
            "Epoch 40/60\n",
            "103/103 [==============================] - 21s 206ms/step - loss: 0.3194 - accuracy: 0.8773 - val_loss: 0.7570 - val_accuracy: 0.7488\n",
            "Epoch 41/60\n",
            "103/103 [==============================] - 22s 209ms/step - loss: 0.2916 - accuracy: 0.8834 - val_loss: 0.7546 - val_accuracy: 0.7374\n",
            "Epoch 42/60\n",
            "103/103 [==============================] - 21s 207ms/step - loss: 0.2797 - accuracy: 0.8943 - val_loss: 0.7245 - val_accuracy: 0.7423\n",
            "Epoch 43/60\n",
            "103/103 [==============================] - 22s 210ms/step - loss: 0.2646 - accuracy: 0.8971 - val_loss: 0.7115 - val_accuracy: 0.7472\n",
            "Epoch 44/60\n",
            "103/103 [==============================] - 22s 214ms/step - loss: 0.2711 - accuracy: 0.8923 - val_loss: 0.7457 - val_accuracy: 0.7439\n",
            "Epoch 45/60\n",
            "103/103 [==============================] - 22s 209ms/step - loss: 0.2610 - accuracy: 0.8951 - val_loss: 0.9965 - val_accuracy: 0.6629\n",
            "Epoch 46/60\n",
            "103/103 [==============================] - 22s 208ms/step - loss: 0.2544 - accuracy: 0.9016 - val_loss: 0.8368 - val_accuracy: 0.7147\n",
            "Epoch 47/60\n",
            "103/103 [==============================] - 22s 210ms/step - loss: 0.2377 - accuracy: 0.9113 - val_loss: 0.8232 - val_accuracy: 0.7731\n",
            "Epoch 48/60\n",
            "103/103 [==============================] - 22s 212ms/step - loss: 0.2348 - accuracy: 0.9154 - val_loss: 0.7146 - val_accuracy: 0.7536\n",
            "Epoch 49/60\n",
            "103/103 [==============================] - 24s 231ms/step - loss: 0.2339 - accuracy: 0.9141 - val_loss: 0.7173 - val_accuracy: 0.7569\n",
            "Epoch 50/60\n",
            "103/103 [==============================] - 22s 210ms/step - loss: 0.2227 - accuracy: 0.9137 - val_loss: 0.7361 - val_accuracy: 0.7504\n",
            "Epoch 51/60\n",
            "103/103 [==============================] - 22s 208ms/step - loss: 0.2168 - accuracy: 0.9166 - val_loss: 0.8402 - val_accuracy: 0.7569\n",
            "Epoch 52/60\n",
            "103/103 [==============================] - 22s 212ms/step - loss: 0.2104 - accuracy: 0.9235 - val_loss: 0.6860 - val_accuracy: 0.7634\n",
            "Epoch 53/60\n",
            "103/103 [==============================] - 21s 205ms/step - loss: 0.2107 - accuracy: 0.9226 - val_loss: 0.8186 - val_accuracy: 0.7585\n",
            "Epoch 54/60\n",
            "103/103 [==============================] - 22s 210ms/step - loss: 0.2239 - accuracy: 0.9182 - val_loss: 0.6734 - val_accuracy: 0.7796\n",
            "Epoch 55/60\n",
            "103/103 [==============================] - 22s 210ms/step - loss: 0.1975 - accuracy: 0.9206 - val_loss: 0.8402 - val_accuracy: 0.7763\n",
            "Epoch 56/60\n",
            "103/103 [==============================] - 24s 229ms/step - loss: 0.1874 - accuracy: 0.9251 - val_loss: 1.1025 - val_accuracy: 0.7002\n",
            "Epoch 57/60\n",
            "103/103 [==============================] - 24s 229ms/step - loss: 0.1838 - accuracy: 0.9324 - val_loss: 0.6972 - val_accuracy: 0.7731\n",
            "Epoch 58/60\n",
            "103/103 [==============================] - 24s 233ms/step - loss: 0.1988 - accuracy: 0.9218 - val_loss: 1.1291 - val_accuracy: 0.7002\n",
            "Epoch 59/60\n",
            "103/103 [==============================] - 24s 233ms/step - loss: 0.1723 - accuracy: 0.9340 - val_loss: 0.9911 - val_accuracy: 0.7164\n",
            "Epoch 60/60\n",
            "103/103 [==============================] - 24s 231ms/step - loss: 0.1805 - accuracy: 0.9320 - val_loss: 0.7133 - val_accuracy: 0.7763\n"
          ]
        },
        {
          "output_type": "display_data",
          "data": {
            "text/plain": [
              "<Figure size 2000x500 with 2 Axes>"
            ],
            "image/png": "[encoded data removed]"
          },
          "metadata": {}
        },
        {
          "output_type": "stream",
          "name": "stdout",
          "text": [
            "11/11 [==============================] - 4s 47ms/step\n"
          ]
        },
        {
          "output_type": "display_data",
          "data": {
            "text/plain": [
              "<Figure size 1000x1000 with 1 Axes>"
            ],
            "image/png": "[encoded data removed]"
          },
          "metadata": {}
        },
        {
          "output_type": "stream",
          "name": "stdout",
          "text": [
            "----------------------------------------------------------------------------------------------------\n",
            "Нейросеть: Сверточный классификатор\n",
            "Класс: Ferrari               78% сеть отнесла к классу Ferrari              - ВЕРНО :-)\n",
            "Класс: Mercedes              86% сеть отнесла к классу Mercedes             - ВЕРНО :-)\n",
            "Класс: Renault               76% сеть отнесла к классу Renault              - ВЕРНО :-)\n",
            "\n",
            "Средняя точность распознавания:  80%\n"
          ]
        }
      ],
      "source": [
        "# Создание последовательной модели\n",
        "model_conv = Sequential()\n",
        "\n",
        "# Первый сверточный слой\n",
        "model_conv.add(\n",
        "    Conv2D(\n",
        "        256,\n",
        "        (3, 3),\n",
        "        padding=\"same\",\n",
        "        activation=\"relu\",\n",
        "        input_shape=(IMG_HEIGHT, IMG_WIDTH, IMG_CHANNELS),\n",
        "    )\n",
        ")\n",
        "model_conv.add(BatchNormalization())\n",
        "\n",
        "# Второй сверточный слой\n",
        "model_conv.add(Conv2D(256, (3, 3), padding=\"same\", activation=\"relu\"))\n",
        "model_conv.add(MaxPooling2D(pool_size=(3, 3)))\n",
        "\n",
        "# Третий сверточный слой\n",
        "model_conv.add(Conv2D(256, (3, 3), padding=\"same\", activation=\"relu\"))\n",
        "model_conv.add(BatchNormalization())\n",
        "model_conv.add(Dropout(0.2))\n",
        "\n",
        "# Четвертый сверточный слой\n",
        "model_conv.add(Conv2D(256, (3, 3), padding=\"same\", activation=\"relu\"))\n",
        "model_conv.add(MaxPooling2D(pool_size=(3, 3)))\n",
        "model_conv.add(Dropout(0.2))\n",
        "\n",
        "# Пятый сверточный слой\n",
        "model_conv.add(Conv2D(512, (3, 3), padding=\"same\", activation=\"relu\"))\n",
        "model_conv.add(BatchNormalization())\n",
        "\n",
        "# Шестой сверточный слой\n",
        "model_conv.add(Conv2D(1024, (3, 3), padding=\"same\", activation=\"relu\"))\n",
        "model_conv.add(MaxPooling2D(pool_size=(3, 3)))\n",
        "model_conv.add(Dropout(0.2))\n",
        "\n",
        "# Слой преобразования многомерных данных в одномерные\n",
        "model_conv.add(Flatten())\n",
        "\n",
        "# Промежуточный полносвязный слой\n",
        "model_conv.add(Dense(2048, activation=\"relu\"))\n",
        "\n",
        "# Промежуточный полносвязный слой\n",
        "model_conv.add(Dense(4096, activation=\"relu\"))\n",
        "\n",
        "# Выходной полносвязный слой с количеством нейронов по количесту классов\n",
        "model_conv.add(Dense(CLASS_COUNT, activation=\"softmax\"))\n",
        "\n",
        "\n",
        "# Обучение модели и вывод оценки ее работы на тестовых данных\n",
        "compile_train_eval_model(\n",
        "    model_conv,\n",
        "    train_generator,\n",
        "    validation_generator,\n",
        "    test_generator,\n",
        "    class_labels=CLASS_LIST,\n",
        "    title=\"Сверточный классификатор\",\n",
        ")"
      ]
    },
    {
      "cell_type": "code",
      "source": [
        "# Сохранение обученной модели полностью (веса и архитектура) после всех эпох\n",
        "\n",
        "model_conv.save('model_cars_all.h5')"
      ],
      "metadata": {
        "id": "3zTBn__NI436",
        "outputId": "1fc58c68-fb07-45b5-9abe-b49329a807e1",
        "colab": {
          "base_uri": "https://localhost:8080/"
        }
      },
      "execution_count": null,
      "outputs": [
        {
          "output_type": "stream",
          "name": "stderr",
          "text": [
            "/usr/local/lib/python3.10/dist-packages/keras/src/engine/training.py:3103: UserWarning: You are saving your model as an HDF5 file via `model.save()`. This file format is considered legacy. We recommend using instead the native Keras format, e.g. `model.save('my_model.keras')`.\n",
            "  saving_api.save_model(\n"
          ]
        }
      ]
    },
    {
      "cell_type": "markdown",
      "metadata": {
        "id": "FPfZzRH68LUM"
      },
      "source": [
        "# Создание архива"
      ]
    },
    {
      "cell_type": "code",
      "execution_count": null,
      "metadata": {
        "id": "8cmk7FbS8LUM"
      },
      "outputs": [],
      "source": [
        "def predict(img_path=\"./test_image_1.jpg\", model_path=\"./model_cars_all.h5\"):\n",
        "    classes = {\n",
        "        0: 'Ferrari',\n",
        "        1: 'Mercedes',\n",
        "        2: 'Renault'\n",
        "    }\n",
        "\n",
        "    model = load_model(model_path)\n",
        "\n",
        "    IMG_WIDTH = 64  # Ширина изображения для нейросети\n",
        "    IMG_HEIGHT = 128  # Высота изображения для нейросети\n",
        "\n",
        "    # Используем блок with для открытия и автоматического закрытия файла\n",
        "    with Image.open(img_path) as img:\n",
        "        test_image = img.resize((IMG_HEIGHT, IMG_WIDTH))\n",
        "        image = np.array(test_image, dtype=\"float64\") / 255  # Normalize the image\n",
        "        image = np.expand_dims(image, axis=0)  # Add an extra dimension for the batch\n",
        "\n",
        "    cls_image = np.argmax(model.predict(image))\n",
        "\n",
        "    print(classes[cls_image])\n",
        "    # Отрисовка итогового изображения\n",
        "    plt.imshow(test_image, cmap=\"Greys_r\")\n",
        "\n",
        "    # Без сетки\n",
        "    plt.grid(False)\n",
        "\n",
        "    # Без осей\n",
        "    plt.axis(\"off\")\n",
        "\n",
        "    # Вывод результата\n",
        "    plt.show()\n"
      ]
    },
    {
      "cell_type": "code",
      "execution_count": null,
      "metadata": {
        "id": "vokzOMYs8LUM",
        "outputId": "92e739bd-5a5b-4abe-ddaa-5a7c770c3188",
        "colab": {
          "base_uri": "https://localhost:8080/",
          "height": 160
        }
      },
      "outputs": [
        {
          "output_type": "display_data",
          "data": {
            "text/plain": [
              "<IPython.core.display.HTML object>"
            ],
            "text/html": [
              "\n",
              "     <input type=\"file\" id=\"files-8bf2908e-24bb-41fe-b9a2-73066a74a0bb\" name=\"files[]\" multiple disabled\n",
              "        style=\"border:none\" />\n",
              "     <output id=\"result-8bf2908e-24bb-41fe-b9a2-73066a74a0bb\">\n",
              "      Upload widget is only available when the cell has been executed in the\n",
              "      current browser session. Please rerun this cell to enable.\n",
              "      </output>\n",
              "      <script>// Copyright 2017 Google LLC\n",
              "//\n",
              "// Licensed under the Apache License, Version 2.0 (the \"License\");\n",
              "// you may not use this file except in compliance with the License.\n",
              "// You may obtain a copy of the License at\n",
              "//\n",
              "//      http://www.apache.org/licenses/LICENSE-2.0\n",
              "//\n",
              "// Unless required by applicable law or agreed to in writing, software\n",
              "// distributed under the License is distributed on an \"AS IS\" BASIS,\n",
              "// WITHOUT WARRANTIES OR CONDITIONS OF ANY KIND, either express or implied.\n",
              "// See the License for the specific language governing permissions and\n",
              "// limitations under the License.\n",
              "\n",
              "/**\n",
              " * @fileoverview Helpers for google.colab Python module.\n",
              " */\n",
              "(function(scope) {\n",
              "function span(text, styleAttributes = {}) {\n",
              "  const element = document.createElement('span');\n",
              "  element.textContent = text;\n",
              "  for (const key of Object.keys(styleAttributes)) {\n",
              "    element.style[key] = styleAttributes[key];\n",
              "  }\n",
              "  return element;\n",
              "}\n",
              "\n",
              "// Max number of bytes which will be uploaded at a time.\n",
              "const MAX_PAYLOAD_SIZE = 100 * 1024;\n",
              "\n",
              "function _uploadFiles(inputId, outputId) {\n",
              "  const steps = uploadFilesStep(inputId, outputId);\n",
              "  const outputElement = document.getElementById(outputId);\n",
              "  // Cache steps on the outputElement to make it available for the next call\n",
              "  // to uploadFilesContinue from Python.\n",
              "  outputElement.steps = steps;\n",
              "\n",
              "  return _uploadFilesContinue(outputId);\n",
              "}\n",
              "\n",
              "// This is roughly an async generator (not supported in the browser yet),\n",
              "// where there are multiple asynchronous steps and the Python side is going\n",
              "// to poll for completion of each step.\n",
              "// This uses a Promise to block the python side on completion of each step,\n",
              "// then passes the result of the previous step as the input to the next step.\n",
              "function _uploadFilesContinue(outputId) {\n",
              "  const outputElement = document.getElementById(outputId);\n",
              "  const steps = outputElement.steps;\n",
              "\n",
              "  const next = steps.next(outputElement.lastPromiseValue);\n",
              "  return Promise.resolve(next.value.promise).then((value) => {\n",
              "    // Cache the last promise value to make it available to the next\n",
              "    // step of the generator.\n",
              "    outputElement.lastPromiseValue = value;\n",
              "    return next.value.response;\n",
              "  });\n",
              "}\n",
              "\n",
              "/**\n",
              " * Generator function which is called between each async step of the upload\n",
              " * process.\n",
              " * @param {string} inputId Element ID of the input file picker element.\n",
              " * @param {string} outputId Element ID of the output display.\n",
              " * @return {!Iterable<!Object>} Iterable of next steps.\n",
              " */\n",
              "function* uploadFilesStep(inputId, outputId) {\n",
              "  const inputElement = document.getElementById(inputId);\n",
              "  inputElement.disabled = false;\n",
              "\n",
              "  const outputElement = document.getElementById(outputId);\n",
              "  outputElement.innerHTML = '';\n",
              "\n",
              "  const pickedPromise = new Promise((resolve) => {\n",
              "    inputElement.addEventListener('change', (e) => {\n",
              "      resolve(e.target.files);\n",
              "    });\n",
              "  });\n",
              "\n",
              "  const cancel = document.createElement('button');\n",
              "  inputElement.parentElement.appendChild(cancel);\n",
              "  cancel.textContent = 'Cancel upload';\n",
              "  const cancelPromise = new Promise((resolve) => {\n",
              "    cancel.onclick = () => {\n",
              "      resolve(null);\n",
              "    };\n",
              "  });\n",
              "\n",
              "  // Wait for the user to pick the files.\n",
              "  const files = yield {\n",
              "    promise: Promise.race([pickedPromise, cancelPromise]),\n",
              "    response: {\n",
              "      action: 'starting',\n",
              "    }\n",
              "  };\n",
              "\n",
              "  cancel.remove();\n",
              "\n",
              "  // Disable the input element since further picks are not allowed.\n",
              "  inputElement.disabled = true;\n",
              "\n",
              "  if (!files) {\n",
              "    return {\n",
              "      response: {\n",
              "        action: 'complete',\n",
              "      }\n",
              "    };\n",
              "  }\n",
              "\n",
              "  for (const file of files) {\n",
              "    const li = document.createElement('li');\n",
              "    li.append(span(file.name, {fontWeight: 'bold'}));\n",
              "    li.append(span(\n",
              "        `(${file.type || 'n/a'}) - ${file.size} bytes, ` +\n",
              "        `last modified: ${\n",
              "            file.lastModifiedDate ? file.lastModifiedDate.toLocaleDateString() :\n",
              "                                    'n/a'} - `));\n",
              "    const percent = span('0% done');\n",
              "    li.appendChild(percent);\n",
              "\n",
              "    outputElement.appendChild(li);\n",
              "\n",
              "    const fileDataPromise = new Promise((resolve) => {\n",
              "      const reader = new FileReader();\n",
              "      reader.onload = (e) => {\n",
              "        resolve(e.target.result);\n",
              "      };\n",
              "      reader.readAsArrayBuffer(file);\n",
              "    });\n",
              "    // Wait for the data to be ready.\n",
              "    let fileData = yield {\n",
              "      promise: fileDataPromise,\n",
              "      response: {\n",
              "        action: 'continue',\n",
              "      }\n",
              "    };\n",
              "\n",
              "    // Use a chunked sending to avoid message size limits. See b/62115660.\n",
              "    let position = 0;\n",
              "    do {\n",
              "      const length = Math.min(fileData.byteLength - position, MAX_PAYLOAD_SIZE);\n",
              "      const chunk = new Uint8Array(fileData, position, length);\n",
              "      position += length;\n",
              "\n",
              "      const base64 = btoa(String.fromCharCode.apply(null, chunk));\n",
              "      yield {\n",
              "        response: {\n",
              "          action: 'append',\n",
              "          file: file.name,\n",
              "          data: base64,\n",
              "        },\n",
              "      };\n",
              "\n",
              "      let percentDone = fileData.byteLength === 0 ?\n",
              "          100 :\n",
              "          Math.round((position / fileData.byteLength) * 100);\n",
              "      percent.textContent = `${percentDone}% done`;\n",
              "\n",
              "    } while (position < fileData.byteLength);\n",
              "  }\n",
              "\n",
              "  // All done.\n",
              "  yield {\n",
              "    response: {\n",
              "      action: 'complete',\n",
              "    }\n",
              "  };\n",
              "}\n",
              "\n",
              "scope.google = scope.google || {};\n",
              "scope.google.colab = scope.google.colab || {};\n",
              "scope.google.colab._files = {\n",
              "  _uploadFiles,\n",
              "  _uploadFilesContinue,\n",
              "};\n",
              "})(self);\n",
              "</script> "
            ]
          },
          "metadata": {}
        },
        {
          "output_type": "stream",
          "name": "stdout",
          "text": [
            "Saving 1.jpg to 1.jpg\n",
            "Saving 2.jpg to 2.jpg\n",
            "Saving 3.jpg to 3.jpg\n",
            "Файлы успешно загружены!\n"
          ]
        }
      ],
      "source": [
        "from google.colab import files\n",
        "\n",
        "# Загрузка одного файла\n",
        "uploaded = files.upload()\n",
        "\n",
        "# Загрузка нескольких файлов\n",
        "# uploaded = files.upload()\n",
        "\n",
        "# Пример обработки загруженных файлов\n",
        "for filename, content in uploaded.items():\n",
        "    with open(filename, \"wb\") as f:\n",
        "        f.write(content)\n",
        "\n",
        "print(\"Файлы успешно загружены!\")"
      ]
    },
    {
      "cell_type": "code",
      "execution_count": null,
      "metadata": {
        "id": "Qbb2HV_Q8LUM",
        "outputId": "7c40f7f2-052b-4308-a227-bbadd5838ade",
        "colab": {
          "base_uri": "https://localhost:8080/",
          "height": 320
        }
      },
      "outputs": [
        {
          "output_type": "stream",
          "name": "stdout",
          "text": [
            "1/1 [==============================] - 0s 119ms/step\n",
            "Renault\n"
          ]
        },
        {
          "output_type": "display_data",
          "data": {
            "text/plain": [
              "<Figure size 640x480 with 1 Axes>"
            ],
            "image/png": "[encoded data removed]"
          },
          "metadata": {}
        }
      ],
      "source": [
        "predict(\"2.jpg\", \"model_cars_all.h5\")"
      ]
    },
    {
      "cell_type": "code",
      "execution_count": null,
      "metadata": {
        "id": "CT4IonTI8LUM"
      },
      "outputs": [],
      "source": [
        "# Сохранение кода скрипта в переменной text_code\n",
        "\n",
        "text_code = \"\"\"\n",
        "from tensorflow.keras.models import load_model\n",
        "from PIL import Image, ImageOps\n",
        "import numpy as np\n",
        "\n",
        "\n",
        "def predict(img_path=\"./test_image_1.jpg\", model_path=\"./model_cars_all.h5\"):\n",
        "    classes = {\n",
        "        0: 'Ferrari',\n",
        "        1: 'Mercedes',\n",
        "        2: 'Renault'\n",
        "    }\n",
        "\n",
        "    model = load_model(model_path)\n",
        "\n",
        "    IMG_WIDTH = 64  # Ширина изображения для нейросети\n",
        "    IMG_HEIGHT = 128  # Высота изображения для нейросети\n",
        "\n",
        "    # Используем блок with для открытия и автоматического закрытия файла\n",
        "    with Image.open(img_path) as img:\n",
        "        test_image = img.resize((IMG_HEIGHT, IMG_WIDTH))\n",
        "        image = np.array(test_image, dtype=\"float64\") / 255  # Normalize the image\n",
        "        image = np.expand_dims(image, axis=0)  # Add an extra dimension for the batch\n",
        "\n",
        "    cls_image = np.argmax(model.predict(image))\n",
        "\n",
        "    print(classes[cls_image])\n",
        "\"\"\"\n",
        "\n",
        "# Запись содержимого переменной в файл скрипта\n",
        "\n",
        "with open(\"script.py\", \"w\") as f:  # Создание / открытие файла\n",
        "    f.write(text_code)  # Запись в файл значения переменной text_code"
      ]
    },
    {
      "cell_type": "code",
      "execution_count": null,
      "metadata": {
        "id": "_RQu7ced8LUM",
        "outputId": "b52f1953-18f6-43d7-9a40-818b44c4521b",
        "colab": {
          "base_uri": "https://localhost:8080/",
          "height": 34
        }
      },
      "outputs": [
        {
          "output_type": "display_data",
          "data": {
            "text/plain": [
              "<Figure size 640x480 with 0 Axes>"
            ]
          },
          "metadata": {}
        }
      ],
      "source": [
        "# Библиотека для работы с файлами\n",
        "from shutil import copyfile\n",
        "import os\n",
        "\n",
        "output_folder = \"class_images\"\n",
        "os.makedirs(output_folder, exist_ok=True)\n",
        "\n",
        "for i in range(0, 3):\n",
        "    img_filename = os.path.join(output_folder, f\"class_{i}.jpeg\")\n",
        "    plt.savefig(img_filename)"
      ]
    },
    {
      "cell_type": "code",
      "execution_count": null,
      "metadata": {
        "id": "6v7TU6z68LUN"
      },
      "outputs": [],
      "source": [
        "label_txt = \"\"\"\n",
        "\n",
        "0: Ferrari\n",
        "1: Mercedes\n",
        "2: Renault\n",
        "\n",
        "\"\"\"\n",
        "\n",
        "with open(\"label.txt\", \"w\") as f:  # Создание / открытие файла\n",
        "    f.write(label_txt.strip())  # Запись в файл значения переменной"
      ]
    },
    {
      "cell_type": "code",
      "execution_count": null,
      "metadata": {
        "id": "KFeLf2q58LUN"
      },
      "outputs": [],
      "source": [
        "import os\n",
        "from zipfile import ZipFile as Zip  # Модуль для работы с zip-архивами\n",
        "\n",
        "# Список всех файлов\n",
        "integrate_files = [\n",
        "    \"model_cars_all.h5\",\n",
        "    \"script.py\",\n",
        "    \"label.txt\",\n",
        "    *[f\"{i}.jpg\" for i in range(0, 3)],\n",
        "]\n",
        "\n",
        "zipArchive = Zip(\n",
        "    \"/content/archive.zip\", \"w\"\n",
        ")  # Открытие файла, если такого не существует - будет создан новый\n",
        "\n",
        "for file in integrate_files:  # Для всех всем нужных файлов:\n",
        "    if os.path.exists(file):  # Если файл существует,\n",
        "        zipArchive.write(file)  # то добавление его в архив\n",
        "    else:\n",
        "        print(\n",
        "            f\"Файл {file} отсутствует!\"\n",
        "        )  # иначе вывод на экран названия отсутствующего файла\n",
        "\n",
        "zipArchive.close()  # В финале архив следует закрыть, как и обычный файл"
      ]
    },
    {
      "cell_type": "code",
      "execution_count": null,
      "metadata": {
        "id": "7I7iUvuC8LUN",
        "outputId": "197fc05e-76dd-4794-b600-9b4630e07b1f",
        "colab": {
          "base_uri": "https://localhost:8080/",
          "height": 52
        }
      },
      "outputs": [
        {
          "output_type": "display_data",
          "data": {
            "text/plain": [
              "<IPython.core.display.Javascript object>"
            ],
            "application/javascript": [
              "\n",
              "    async function download(id, filename, size) {\n",
              "      if (!google.colab.kernel.accessAllowed) {\n",
              "        return;\n",
              "      }\n",
              "      const div = document.createElement('div');\n",
              "      const label = document.createElement('label');\n",
              "      label.textContent = `Downloading \"${filename}\": `;\n",
              "      div.appendChild(label);\n",
              "      const progress = document.createElement('progress');\n",
              "      progress.max = size;\n",
              "      div.appendChild(progress);\n",
              "      document.body.appendChild(div);\n",
              "\n",
              "      const buffers = [];\n",
              "      let downloaded = 0;\n",
              "\n",
              "      const channel = await google.colab.kernel.comms.open(id);\n",
              "      // Send a message to notify the kernel that we're ready.\n",
              "      channel.send({})\n",
              "\n",
              "      for await (const message of channel.messages) {\n",
              "        // Send a message to notify the kernel that we're ready.\n",
              "        channel.send({})\n",
              "        if (message.buffers) {\n",
              "          for (const buffer of message.buffers) {\n",
              "            buffers.push(buffer);\n",
              "            downloaded += buffer.byteLength;\n",
              "            progress.value = downloaded;\n",
              "          }\n",
              "        }\n",
              "      }\n",
              "      const blob = new Blob(buffers, {type: 'application/binary'});\n",
              "      const a = document.createElement('a');\n",
              "      a.href = window.URL.createObjectURL(blob);\n",
              "      a.download = filename;\n",
              "      div.appendChild(a);\n",
              "      a.click();\n",
              "      div.remove();\n",
              "    }\n",
              "  "
            ]
          },
          "metadata": {}
        },
        {
          "output_type": "display_data",
          "data": {
            "text/plain": [
              "<IPython.core.display.Javascript object>"
            ],
            "application/javascript": [
              "download(\"download_053f59b4-a8e9-4a71-aa30-784ace5f5631\", \"archive.zip\", 395045232)"
            ]
          },
          "metadata": {}
        },
        {
          "output_type": "stream",
          "name": "stdout",
          "text": [
            "Архив загружен\n"
          ]
        }
      ],
      "source": [
        "from google.colab import files  # Функция для скачивания данных на локальный компьютер\n",
        "\n",
        "files.download(filename=\"archive.zip\")  # Скачивание готового архива\n",
        "\n",
        "print(\"Архив загружен\")"
      ]
    }
  ],
  "metadata": {
    "accelerator": "GPU",
    "colab": {
      "provenance": [],
      "include_colab_link": true
    },
    "kernelspec": {
      "display_name": "Python 3",
      "name": "python3"
    },
    "language_info": {
      "codemirror_mode": {
        "name": "ipython",
        "version": 3
      },
      "file_extension": ".py",
      "mimetype": "text/x-python",
      "name": "python",
      "nbconvert_exporter": "python",
      "pygments_lexer": "ipython3",
      "version": "3.9.6"
    }
  },
  "nbformat": 4,
  "nbformat_minor": 0
}